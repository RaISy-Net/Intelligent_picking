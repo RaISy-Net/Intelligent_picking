{
  "nbformat": 4,
  "nbformat_minor": 0,
  "metadata": {
    "colab": {
      "name": "object_detection.ipynb",
      "provenance": [],
      "collapsed_sections": []
    },
    "kernelspec": {
      "name": "python3",
      "display_name": "Python 3"
    },
    "accelerator": "GPU"
  },
  "cells": [
    {
      "cell_type": "code",
      "metadata": {
        "id": "x6nET-sZUJsk",
        "colab_type": "code",
        "colab": {
          "base_uri": "https://localhost:8080/",
          "height": 122
        },
        "outputId": "6251230d-ac79-4c22-9e91-e04a4102e40e"
      },
      "source": [
        "from google.colab import drive\n",
        "drive.mount('/content/drive')"
      ],
      "execution_count": null,
      "outputs": [
        {
          "output_type": "stream",
          "text": [
            "Go to this URL in a browser: https://accounts.google.com/o/oauth2/auth?client_id=947318989803-6bn6qk8qdgf4n4g3pfee6491hc0brc4i.apps.googleusercontent.com&redirect_uri=urn%3aietf%3awg%3aoauth%3a2.0%3aoob&response_type=code&scope=email%20https%3a%2f%2fwww.googleapis.com%2fauth%2fdocs.test%20https%3a%2f%2fwww.googleapis.com%2fauth%2fdrive%20https%3a%2f%2fwww.googleapis.com%2fauth%2fdrive.photos.readonly%20https%3a%2f%2fwww.googleapis.com%2fauth%2fpeopleapi.readonly\n",
            "\n",
            "Enter your authorization code:\n",
            "··········\n",
            "Mounted at /content/drive\n"
          ],
          "name": "stdout"
        }
      ]
    },
    {
      "cell_type": "code",
      "metadata": {
        "id": "U1UxKCVWURYX",
        "colab_type": "code",
        "colab": {
          "base_uri": "https://localhost:8080/",
          "height": 292
        },
        "outputId": "bff93b98-f95e-448d-88e3-fe48214a659f"
      },
      "source": [
        "!pip install imageai"
      ],
      "execution_count": null,
      "outputs": [
        {
          "output_type": "stream",
          "text": [
            "Collecting imageai\n",
            "\u001b[?25l  Downloading https://files.pythonhosted.org/packages/09/99/4023e191a343fb23f01ae02ac57a5ca58037c310e8d8c62f87638a3bafc7/imageai-2.1.5-py3-none-any.whl (180kB)\n",
            "\r\u001b[K     |█▉                              | 10kB 12.6MB/s eta 0:00:01\r\u001b[K     |███▋                            | 20kB 2.2MB/s eta 0:00:01\r\u001b[K     |█████▍                          | 30kB 2.8MB/s eta 0:00:01\r\u001b[K     |███████▎                        | 40kB 3.1MB/s eta 0:00:01\r\u001b[K     |█████████                       | 51kB 2.6MB/s eta 0:00:01\r\u001b[K     |██████████▉                     | 61kB 2.8MB/s eta 0:00:01\r\u001b[K     |████████████▊                   | 71kB 3.1MB/s eta 0:00:01\r\u001b[K     |██████████████▌                 | 81kB 3.3MB/s eta 0:00:01\r\u001b[K     |████████████████▎               | 92kB 3.6MB/s eta 0:00:01\r\u001b[K     |██████████████████▏             | 102kB 3.5MB/s eta 0:00:01\r\u001b[K     |████████████████████            | 112kB 3.5MB/s eta 0:00:01\r\u001b[K     |█████████████████████▊          | 122kB 3.5MB/s eta 0:00:01\r\u001b[K     |███████████████████████▋        | 133kB 3.5MB/s eta 0:00:01\r\u001b[K     |█████████████████████████▍      | 143kB 3.5MB/s eta 0:00:01\r\u001b[K     |███████████████████████████▏    | 153kB 3.5MB/s eta 0:00:01\r\u001b[K     |█████████████████████████████   | 163kB 3.5MB/s eta 0:00:01\r\u001b[K     |██████████████████████████████▉ | 174kB 3.5MB/s eta 0:00:01\r\u001b[K     |████████████████████████████████| 184kB 3.5MB/s \n",
            "\u001b[?25hRequirement already satisfied: pillow in /usr/local/lib/python3.6/dist-packages (from imageai) (7.0.0)\n",
            "Requirement already satisfied: scipy in /usr/local/lib/python3.6/dist-packages (from imageai) (1.4.1)\n",
            "Requirement already satisfied: h5py in /usr/local/lib/python3.6/dist-packages (from imageai) (2.10.0)\n",
            "Requirement already satisfied: numpy in /usr/local/lib/python3.6/dist-packages (from imageai) (1.18.5)\n",
            "Requirement already satisfied: matplotlib in /usr/local/lib/python3.6/dist-packages (from imageai) (3.2.2)\n",
            "Requirement already satisfied: six in /usr/local/lib/python3.6/dist-packages (from h5py->imageai) (1.12.0)\n",
            "Requirement already satisfied: pyparsing!=2.0.4,!=2.1.2,!=2.1.6,>=2.0.1 in /usr/local/lib/python3.6/dist-packages (from matplotlib->imageai) (2.4.7)\n",
            "Requirement already satisfied: cycler>=0.10 in /usr/local/lib/python3.6/dist-packages (from matplotlib->imageai) (0.10.0)\n",
            "Requirement already satisfied: kiwisolver>=1.0.1 in /usr/local/lib/python3.6/dist-packages (from matplotlib->imageai) (1.2.0)\n",
            "Requirement already satisfied: python-dateutil>=2.1 in /usr/local/lib/python3.6/dist-packages (from matplotlib->imageai) (2.8.1)\n",
            "Installing collected packages: imageai\n",
            "Successfully installed imageai-2.1.5\n"
          ],
          "name": "stdout"
        }
      ]
    },
    {
      "cell_type": "code",
      "metadata": {
        "id": "F-VH9xMtUkc4",
        "colab_type": "code",
        "colab": {
          "base_uri": "https://localhost:8080/",
          "height": 683
        },
        "outputId": "65a57e5b-abbf-4dc0-8421-9d3803dbeefd"
      },
      "source": [
        "pip install tensorflow-gpu==1.13.1"
      ],
      "execution_count": null,
      "outputs": [
        {
          "output_type": "stream",
          "text": [
            "Collecting tensorflow-gpu==1.13.1\n",
            "\u001b[?25l  Downloading https://files.pythonhosted.org/packages/7b/b1/0ad4ae02e17ddd62109cd54c291e311c4b5fd09b4d0678d3d6ce4159b0f0/tensorflow_gpu-1.13.1-cp36-cp36m-manylinux1_x86_64.whl (345.2MB)\n",
            "\u001b[K     |████████████████████████████████| 345.2MB 50kB/s \n",
            "\u001b[?25hRequirement already satisfied: keras-applications>=1.0.6 in /usr/local/lib/python3.6/dist-packages (from tensorflow-gpu==1.13.1) (1.0.8)\n",
            "Requirement already satisfied: grpcio>=1.8.6 in /usr/local/lib/python3.6/dist-packages (from tensorflow-gpu==1.13.1) (1.30.0)\n",
            "Collecting tensorflow-estimator<1.14.0rc0,>=1.13.0\n",
            "\u001b[?25l  Downloading https://files.pythonhosted.org/packages/bb/48/13f49fc3fa0fdf916aa1419013bb8f2ad09674c275b4046d5ee669a46873/tensorflow_estimator-1.13.0-py2.py3-none-any.whl (367kB)\n",
            "\u001b[K     |████████████████████████████████| 368kB 39.6MB/s \n",
            "\u001b[?25hRequirement already satisfied: wheel>=0.26 in /usr/local/lib/python3.6/dist-packages (from tensorflow-gpu==1.13.1) (0.34.2)\n",
            "Requirement already satisfied: gast>=0.2.0 in /usr/local/lib/python3.6/dist-packages (from tensorflow-gpu==1.13.1) (0.3.3)\n",
            "Requirement already satisfied: termcolor>=1.1.0 in /usr/local/lib/python3.6/dist-packages (from tensorflow-gpu==1.13.1) (1.1.0)\n",
            "Requirement already satisfied: six>=1.10.0 in /usr/local/lib/python3.6/dist-packages (from tensorflow-gpu==1.13.1) (1.12.0)\n",
            "Collecting tensorboard<1.14.0,>=1.13.0\n",
            "\u001b[?25l  Downloading https://files.pythonhosted.org/packages/0f/39/bdd75b08a6fba41f098b6cb091b9e8c7a80e1b4d679a581a0ccd17b10373/tensorboard-1.13.1-py3-none-any.whl (3.2MB)\n",
            "\u001b[K     |████████████████████████████████| 3.2MB 39.1MB/s \n",
            "\u001b[?25hRequirement already satisfied: keras-preprocessing>=1.0.5 in /usr/local/lib/python3.6/dist-packages (from tensorflow-gpu==1.13.1) (1.1.2)\n",
            "Requirement already satisfied: absl-py>=0.1.6 in /usr/local/lib/python3.6/dist-packages (from tensorflow-gpu==1.13.1) (0.9.0)\n",
            "Requirement already satisfied: astor>=0.6.0 in /usr/local/lib/python3.6/dist-packages (from tensorflow-gpu==1.13.1) (0.8.1)\n",
            "Requirement already satisfied: numpy>=1.13.3 in /usr/local/lib/python3.6/dist-packages (from tensorflow-gpu==1.13.1) (1.18.5)\n",
            "Requirement already satisfied: protobuf>=3.6.1 in /usr/local/lib/python3.6/dist-packages (from tensorflow-gpu==1.13.1) (3.10.0)\n",
            "Requirement already satisfied: h5py in /usr/local/lib/python3.6/dist-packages (from keras-applications>=1.0.6->tensorflow-gpu==1.13.1) (2.10.0)\n",
            "Collecting mock>=2.0.0\n",
            "  Downloading https://files.pythonhosted.org/packages/cd/74/d72daf8dff5b6566db857cfd088907bb0355f5dd2914c4b3ef065c790735/mock-4.0.2-py3-none-any.whl\n",
            "Requirement already satisfied: werkzeug>=0.11.15 in /usr/local/lib/python3.6/dist-packages (from tensorboard<1.14.0,>=1.13.0->tensorflow-gpu==1.13.1) (1.0.1)\n",
            "Requirement already satisfied: markdown>=2.6.8 in /usr/local/lib/python3.6/dist-packages (from tensorboard<1.14.0,>=1.13.0->tensorflow-gpu==1.13.1) (3.2.2)\n",
            "Requirement already satisfied: setuptools in /usr/local/lib/python3.6/dist-packages (from protobuf>=3.6.1->tensorflow-gpu==1.13.1) (47.3.1)\n",
            "Requirement already satisfied: importlib-metadata; python_version < \"3.8\" in /usr/local/lib/python3.6/dist-packages (from markdown>=2.6.8->tensorboard<1.14.0,>=1.13.0->tensorflow-gpu==1.13.1) (1.6.1)\n",
            "Requirement already satisfied: zipp>=0.5 in /usr/local/lib/python3.6/dist-packages (from importlib-metadata; python_version < \"3.8\"->markdown>=2.6.8->tensorboard<1.14.0,>=1.13.0->tensorflow-gpu==1.13.1) (3.1.0)\n",
            "\u001b[31mERROR: tensorflow 2.2.0 has requirement tensorboard<2.3.0,>=2.2.0, but you'll have tensorboard 1.13.1 which is incompatible.\u001b[0m\n",
            "\u001b[31mERROR: tensorflow 2.2.0 has requirement tensorflow-estimator<2.3.0,>=2.2.0, but you'll have tensorflow-estimator 1.13.0 which is incompatible.\u001b[0m\n",
            "Installing collected packages: mock, tensorflow-estimator, tensorboard, tensorflow-gpu\n",
            "  Found existing installation: tensorflow-estimator 2.2.0\n",
            "    Uninstalling tensorflow-estimator-2.2.0:\n",
            "      Successfully uninstalled tensorflow-estimator-2.2.0\n",
            "  Found existing installation: tensorboard 2.2.2\n",
            "    Uninstalling tensorboard-2.2.2:\n",
            "      Successfully uninstalled tensorboard-2.2.2\n",
            "Successfully installed mock-4.0.2 tensorboard-1.13.1 tensorflow-estimator-1.13.0 tensorflow-gpu-1.13.1\n"
          ],
          "name": "stdout"
        }
      ]
    },
    {
      "cell_type": "code",
      "metadata": {
        "id": "BNNN7kWmU6QR",
        "colab_type": "code",
        "colab": {
          "base_uri": "https://localhost:8080/",
          "height": 258
        },
        "outputId": "1d71c6e5-3942-49f2-f93e-845e55bec9c2"
      },
      "source": [
        "\n",
        "import os\n",
        "import numpy as np\n",
        "from imageai.Detection.Custom import DetectionModelTrainer,CustomObjectDetection"
      ],
      "execution_count": null,
      "outputs": [
        {
          "output_type": "stream",
          "text": [
            "Using TensorFlow backend.\n",
            "/usr/local/lib/python3.6/dist-packages/tensorflow/python/framework/dtypes.py:526: FutureWarning: Passing (type, 1) or '1type' as a synonym of type is deprecated; in a future version of numpy, it will be understood as (type, (1,)) / '(1,)type'.\n",
            "  _np_qint8 = np.dtype([(\"qint8\", np.int8, 1)])\n",
            "/usr/local/lib/python3.6/dist-packages/tensorflow/python/framework/dtypes.py:527: FutureWarning: Passing (type, 1) or '1type' as a synonym of type is deprecated; in a future version of numpy, it will be understood as (type, (1,)) / '(1,)type'.\n",
            "  _np_quint8 = np.dtype([(\"quint8\", np.uint8, 1)])\n",
            "/usr/local/lib/python3.6/dist-packages/tensorflow/python/framework/dtypes.py:528: FutureWarning: Passing (type, 1) or '1type' as a synonym of type is deprecated; in a future version of numpy, it will be understood as (type, (1,)) / '(1,)type'.\n",
            "  _np_qint16 = np.dtype([(\"qint16\", np.int16, 1)])\n",
            "/usr/local/lib/python3.6/dist-packages/tensorflow/python/framework/dtypes.py:529: FutureWarning: Passing (type, 1) or '1type' as a synonym of type is deprecated; in a future version of numpy, it will be understood as (type, (1,)) / '(1,)type'.\n",
            "  _np_quint16 = np.dtype([(\"quint16\", np.uint16, 1)])\n",
            "/usr/local/lib/python3.6/dist-packages/tensorflow/python/framework/dtypes.py:530: FutureWarning: Passing (type, 1) or '1type' as a synonym of type is deprecated; in a future version of numpy, it will be understood as (type, (1,)) / '(1,)type'.\n",
            "  _np_qint32 = np.dtype([(\"qint32\", np.int32, 1)])\n",
            "/usr/local/lib/python3.6/dist-packages/tensorflow/python/framework/dtypes.py:535: FutureWarning: Passing (type, 1) or '1type' as a synonym of type is deprecated; in a future version of numpy, it will be understood as (type, (1,)) / '(1,)type'.\n",
            "  np_resource = np.dtype([(\"resource\", np.ubyte, 1)])\n"
          ],
          "name": "stderr"
        }
      ]
    },
    {
      "cell_type": "code",
      "metadata": {
        "id": "cqeSct_PVZc9",
        "colab_type": "code",
        "colab": {}
      },
      "source": [
        "trainer=DetectionModelTrainer()\n",
        "trainer.setModelTypeAsYOLOv3()\n"
      ],
      "execution_count": null,
      "outputs": []
    },
    {
      "cell_type": "code",
      "metadata": {
        "id": "FGq4Gc0_YXux",
        "colab_type": "code",
        "colab": {
          "base_uri": "https://localhost:8080/",
          "height": 105
        },
        "outputId": "72dfe344-a1b1-40a1-a8c8-36639a0eb789"
      },
      "source": [
        "trainer.setDataDirectory(data_directory=\"/content/drive/My Drive/Filpkart_dataset/dataset\")\n",
        "trainer.setTrainConfig(object_names_array=[\"object\"],batch_size=4,num_experiments=4,train_from_pretrained_model='/content/drive/My Drive/pretrained-yolov3.h5')"
      ],
      "execution_count": null,
      "outputs": [
        {
          "output_type": "stream",
          "text": [
            "Generating anchor boxes for training images and annotation...\n",
            "Average IOU for 9 anchors: 0.87\n",
            "Anchor Boxes generated.\n",
            "Detection configuration saved in  /content/drive/My Drive/Filpkart_dataset/dataset/json/detection_config.json\n"
          ],
          "name": "stdout"
        }
      ]
    },
    {
      "cell_type": "code",
      "metadata": {
        "id": "1hVMjkUkWjsW",
        "colab_type": "code",
        "colab": {
          "base_uri": "https://localhost:8080/",
          "height": 428
        },
        "outputId": "baa69e26-d8cd-421d-d43d-8174c135f716"
      },
      "source": [
        "trainer.trainModel()"
      ],
      "execution_count": null,
      "outputs": [
        {
          "output_type": "stream",
          "text": [
            "Training on: \t['object']\n",
            "Training with Batch Size:  4\n",
            "Number of Experiments:  4\n",
            "WARNING:tensorflow:From /usr/local/lib/python3.6/dist-packages/tensorflow/python/ops/resource_variable_ops.py:435: colocate_with (from tensorflow.python.framework.ops) is deprecated and will be removed in a future version.\n",
            "Instructions for updating:\n",
            "Colocations handled automatically by placer.\n",
            "WARNING:tensorflow:From /usr/local/lib/python3.6/dist-packages/imageai/Detection/Custom/yolo.py:24: to_float (from tensorflow.python.ops.math_ops) is deprecated and will be removed in a future version.\n",
            "Instructions for updating:\n",
            "Use tf.cast instead.\n",
            "Training with transfer learning from pretrained Model\n"
          ],
          "name": "stdout"
        },
        {
          "output_type": "stream",
          "text": [
            "/usr/local/lib/python3.6/dist-packages/keras/callbacks/callbacks.py:998: UserWarning: `epsilon` argument is deprecated and will be removed, use `min_delta` instead.\n",
            "  warnings.warn('`epsilon` argument is deprecated and '\n"
          ],
          "name": "stderr"
        },
        {
          "output_type": "stream",
          "text": [
            "WARNING:tensorflow:From /usr/local/lib/python3.6/dist-packages/tensorflow/python/ops/math_ops.py:3066: to_int32 (from tensorflow.python.ops.math_ops) is deprecated and will be removed in a future version.\n",
            "Instructions for updating:\n",
            "Use tf.cast instead.\n",
            "Epoch 1/4\n",
            "536/536 [==============================] - 776s 1s/step - loss: 38.1220 - yolo_layer_1_loss: 9.1097 - yolo_layer_2_loss: 10.6613 - yolo_layer_3_loss: 18.3509 - val_loss: 17.0659 - val_yolo_layer_1_loss: 4.4066 - val_yolo_layer_2_loss: 6.0751 - val_yolo_layer_3_loss: 7.5621\n",
            "Epoch 2/4\n",
            "536/536 [==============================] - 640s 1s/step - loss: 18.6212 - yolo_layer_1_loss: 5.5598 - yolo_layer_2_loss: 5.5616 - yolo_layer_3_loss: 7.4998 - val_loss: 20.4991 - val_yolo_layer_1_loss: 4.0857 - val_yolo_layer_2_loss: 4.5697 - val_yolo_layer_3_loss: 6.9032\n",
            "Epoch 3/4\n",
            "536/536 [==============================] - 685s 1s/step - loss: 17.3327 - yolo_layer_1_loss: 5.1584 - yolo_layer_2_loss: 5.1701 - yolo_layer_3_loss: 7.0042 - val_loss: 18.0125 - val_yolo_layer_1_loss: 3.3400 - val_yolo_layer_2_loss: 4.5093 - val_yolo_layer_3_loss: 5.9191\n",
            "Epoch 4/4\n",
            "536/536 [==============================] - 675s 1s/step - loss: 16.8681 - yolo_layer_1_loss: 4.9368 - yolo_layer_2_loss: 5.1891 - yolo_layer_3_loss: 6.7423 - val_loss: 19.6627 - val_yolo_layer_1_loss: 3.2731 - val_yolo_layer_2_loss: 4.7899 - val_yolo_layer_3_loss: 5.5370\n"
          ],
          "name": "stdout"
        }
      ]
    },
    {
      "cell_type": "code",
      "metadata": {
        "id": "LA17o7dqX62Y",
        "colab_type": "code",
        "colab": {
          "base_uri": "https://localhost:8080/",
          "height": 632
        },
        "outputId": "8518dbaa-4b29-41df-c085-883cf27d061d"
      },
      "source": [
        "metrics=trainer.evaluateModel(model_path='/content/drive/My Drive/Filpkart_dataset/dataset/models',json_path='/content/drive/My Drive/Filpkart_dataset/dataset/json/detection_config.json',iou_threshold=0.5,object_threshold=0.1,nms_threshold=0.5)"
      ],
      "execution_count": null,
      "outputs": [
        {
          "output_type": "stream",
          "text": [
            "Starting Model evaluation....\n"
          ],
          "name": "stdout"
        },
        {
          "output_type": "stream",
          "text": [
            "/usr/local/lib/python3.6/dist-packages/keras/engine/saving.py:341: UserWarning: No training configuration found in save file: the model was *not* compiled. Compile it manually.\n",
            "  warnings.warn('No training configuration found in save file: '\n"
          ],
          "name": "stderr"
        },
        {
          "output_type": "stream",
          "text": [
            "Model File:  /content/drive/My Drive/Filpkart_dataset/dataset/models/detection_model-ex-001--loss-0038.122.h5 \n",
            "\n",
            "Using IoU :  0.5\n",
            "Using Object Threshold :  0.1\n",
            "Using Non-Maximum Suppression :  0.5\n",
            "object: 0.9407\n",
            "mAP: 0.9407\n",
            "===============================\n",
            "Model File:  /content/drive/My Drive/Filpkart_dataset/dataset/models/detection_model-ex-002--loss-0018.621.h5 \n",
            "\n",
            "Using IoU :  0.5\n",
            "Using Object Threshold :  0.1\n",
            "Using Non-Maximum Suppression :  0.5\n",
            "object: 0.9849\n",
            "mAP: 0.9849\n",
            "===============================\n",
            "Model File:  /content/drive/My Drive/Filpkart_dataset/dataset/models/detection_model-ex-003--loss-0017.333.h5 \n",
            "\n",
            "Using IoU :  0.5\n",
            "Using Object Threshold :  0.1\n",
            "Using Non-Maximum Suppression :  0.5\n",
            "object: 0.9865\n",
            "mAP: 0.9865\n",
            "===============================\n",
            "Model File:  /content/drive/My Drive/Filpkart_dataset/dataset/models/detection_model-ex-004--loss-0016.868.h5 \n",
            "\n",
            "Using IoU :  0.5\n",
            "Using Object Threshold :  0.1\n",
            "Using Non-Maximum Suppression :  0.5\n",
            "object: 0.9727\n",
            "mAP: 0.9727\n",
            "===============================\n"
          ],
          "name": "stdout"
        }
      ]
    },
    {
      "cell_type": "code",
      "metadata": {
        "id": "NnQd3cM2ppXE",
        "colab_type": "code",
        "colab": {}
      },
      "source": [
        "detector=CustomObjectDetection()\n",
        "detector.setModelTypeAsYOLOv3()\n",
        "detector.setModelPath('/content/drive/My Drive/Filpkart_dataset/dataset/models/detection_model-ex-004--loss-0016.868.h5')\n",
        "detector.setJsonPath('/content/drive/My Drive/Filpkart_dataset/dataset/json/detection_config.json')\n",
        "detector.loadModel()\n"
      ],
      "execution_count": null,
      "outputs": []
    },
    {
      "cell_type": "code",
      "metadata": {
        "id": "i0zqlyFEsUub",
        "colab_type": "code",
        "colab": {
          "base_uri": "https://localhost:8080/",
          "height": 170
        },
        "outputId": "14f68dcc-36e3-4ba3-a6ce-7d1b45f07fbd"
      },
      "source": [
        "detections=detector.detectObjectsFromImage(input_image='/content/drive/My Drive/Filpkart_dataset/dataset/validation/images/image280.jpeg',output_image_path='/content/drive/My Drive/Filpkart_dataset/res.jpeg')\n",
        "\n",
        "for detection in detections:\n",
        "\tprint(detection[\"name\"], \" : \", detection[\"percentage_probability\"], \" : \", detection[\"box_points\"])\n",
        "\tcoords=detection[\"box_points\"]\n",
        "\t#cv2.rectangle(res,(coords[0],coords[1]),(coords[2],coords[3]),(0, 0, 0) ,2)\n",
        "\n"
      ],
      "execution_count": null,
      "outputs": [
        {
          "output_type": "stream",
          "text": [
            "object  :  58.877331018447876  :  [169, 36, 267, 127]\n",
            "object  :  52.19032168388367  :  [0, 249, 130, 351]\n",
            "object  :  59.65093374252319  :  [329, 260, 453, 343]\n",
            "object  :  54.92933988571167  :  [24, 368, 125, 468]\n",
            "object  :  54.666900634765625  :  [317, 378, 416, 493]\n",
            "object  :  50.27313232421875  :  [43, 11, 145, 123]\n",
            "object  :  73.23219180107117  :  [376, 71, 472, 148]\n",
            "object  :  69.0169632434845  :  [198, 251, 286, 330]\n",
            "object  :  56.62084221839905  :  [224, 369, 313, 490]\n"
          ],
          "name": "stdout"
        }
      ]
    },
    {
      "cell_type": "code",
      "metadata": {
        "id": "gLw2smDtsFQE",
        "colab_type": "code",
        "colab": {}
      },
      "source": [
        ""
      ],
      "execution_count": null,
      "outputs": []
    }
  ]
}